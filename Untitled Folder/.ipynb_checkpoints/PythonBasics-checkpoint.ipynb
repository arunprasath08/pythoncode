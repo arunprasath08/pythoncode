{
 "cells": [
  {
   "cell_type": "code",
   "execution_count": 1,
   "id": "7fbacb12",
   "metadata": {},
   "outputs": [
    {
     "name": "stdout",
     "output_type": "stream",
     "text": [
      "sum of 56  and  34  is  90\n",
      "sum of 56.4  and  34.9  is  90\n",
      "3043\n",
      "<class 'int'>\n",
      "<class 'int'>\n",
      "<class 'float'>\n",
      "<class 'float'>\n",
      "<class 'str'>\n",
      "<class 'str'>\n",
      "a=56 and b=34 comparison True\n",
      "e='30' and f='43' comparison True\n"
     ]
    }
   ],
   "source": [
    "# variables\n",
    "# numeric addition\n",
    "a=56\n",
    "b=34\n",
    "print(\"sum of\" ,a,\" and \", b ,\" is \",a+b)\n",
    "# float addition\n",
    "c=56.4\n",
    "d=34.9\n",
    "print(\"sum of\" ,c,\" and \", d ,\" is \",a+b)\n",
    "#string addition - Concatenation\n",
    "e='30'\n",
    "f='43'\n",
    "print(e+f)\n",
    "print(type(a))\n",
    "print(type(b))\n",
    "print(type(c))\n",
    "print(type(d))\n",
    "print(type(e))\n",
    "print(type(f))\n",
    "#comparison of data type\n",
    "print('a=56 and b=34 comparison',type(a)==type(b))\n",
    "print('e=\\'30\\' and f=\\'43\\' comparison',type(e)==type(f))"
   ]
  },
  {
   "cell_type": "code",
   "execution_count": null,
   "id": "296f888a",
   "metadata": {},
   "outputs": [],
   "source": [
    "#list - mutable data structure\n",
    "check=['23',43,1.2,False]\n",
    "print('list named check is',check,'type of list check is',type(check))\n",
    "\n",
    "for i in range(len(check)):\n",
    "    print('data type of element in list',check[i],' is',type(check[i]))\n",
    "\n",
    "print('memory location allocated to list check:',id(check))"
   ]
  },
  {
   "cell_type": "code",
   "execution_count": 103,
   "id": "08b68065",
   "metadata": {},
   "outputs": [
    {
     "name": "stdout",
     "output_type": "stream",
     "text": [
      "[23, 45, True, 43.6, 'arun', 'prasath']\n",
      "[23, 45, True, 43.6, 'arun']\n",
      "[45, True, 43.6, 'arun']\n",
      "[45, True, 43.6, 'arun', 'prasath']\n",
      "[45, True, 43.6, 'arun', 'prasath', 23]\n",
      "[23, 45, True, 43.6, 'arun', 'prasath', 23]\n",
      "[23, 45, True, 43.6, 'arun', 'prasath']\n",
      "[23, 45, 'NewElemnt', 43.6, 'arun', 'prasath']\n",
      "1\n",
      "[23, 45, 'NewElemnt', 43.6, 'arun', 'prasath']\n",
      "[]\n",
      "[23, 45, 'NewElemnt', 43.6, 'arun', 'prasath', 'e', 'x', 't', 'e', 'n', 'd', 'E', 'l', 'e', 'm', 'e', 'n', 't']\n",
      "[23, 45, 'NewElemnt', 43.6, 'arun', 'prasath', 'e', 'x', 't', 'e', 'n', 'd', 'E', 'l', 'e', 'm', 'e', 'n', 't', '2', '3']\n",
      "[23, 45, 'NewElemnt', 43.6, 'arun', 'prasath', 'e', 'x', 't', 'e', 'n', 'd', 'E', 'l', 'e', 'm', 'e', 'n', 't', '2', '3', 23, 45, 'NewElemnt', 43.6, 'arun', 'prasath', 'e', 'x', 't', 'e', 'n', 'd', 'E', 'l', 'e', 'm', 'e', 'n', 't', '2', '3']\n",
      "6\n",
      "[23, 45, 'NewElemnt', 43.6, 'arun', 'prasath', 'x', 't', 'e', 'n', 'd', 'E', 'l', 'e', 'm', 'e', 'n', 't', '2', '3', 23, 45, 'NewElemnt', 43.6, 'arun', 'prasath', 'e', 'x', 't', 'e', 'n', 'd', 'E', 'l', 'e', 'm', 'e', 'n', 't', '2', '3']\n",
      "['3', '2', 't', 'n', 'e', 'm', 'e', 'l', 'E', 'd', 'n', 'e', 't', 'x', 'e', 'prasath', 'arun', 43.6, 'NewElemnt', 45, 23, '3', '2', 't', 'n', 'e', 'm', 'e', 'l', 'E', 'd', 'n', 'e', 't', 'x', 'prasath', 'arun', 43.6, 'NewElemnt', 45, 23]\n",
      "Asc order [-1, 0, 32, 67, 176]\n",
      "Desc order [176, 67, 32, 0, -1]\n"
     ]
    }
   ],
   "source": [
    "#list methods\n",
    "lst=[23,45,True,43.6,'arun','prasath']\n",
    "print(lst)\n",
    "lst.pop()             #pop method to pop last element\n",
    "print(lst)\n",
    "lst.pop(0)            #pop method to pop element at given position\n",
    "print(lst)\n",
    "lst.append('prasath') #append method to append element at end\n",
    "print(lst)\n",
    "lst.append(23)\n",
    "print(lst)\n",
    "lst.insert(0,23)      #Insert method to insert element at given position\n",
    "print(lst)\n",
    "lst.pop(len(lst)-1)\n",
    "print(lst)\n",
    "lst[2]='NewElemnt'    #Assignment of element based on position\n",
    "print(lst)            #existing elemnt in position is overwritten\n",
    "\n",
    "print(lst.count(23))  #count method to count occurrences of given value\n",
    "lst_cpy=lst.copy()    #copy method to copy list to another  \n",
    "print(lst_cpy)        \n",
    "lst_cpy.clear()       #clear method to remove all list elements\n",
    "print(lst_cpy)\n",
    "lst.extend('extendElement') #Adds all data in argument(list or iteration) to end of current list\n",
    "print(lst)\n",
    "lst.extend('23')\n",
    "print(lst)\n",
    "lst.extend(lst)\n",
    "print(lst)\n",
    "print(lst.index('e'))       #returns first index of given value\n",
    "lst.remove('e')             #removes first occurrence of given value\n",
    "print(lst)\n",
    "lst.reverse()               #reverses the elements in list without any sorting\n",
    "print(lst)\n",
    "list=[176,32,67,0,-1]\n",
    "list.sort()             #sorts the list in Asc by default - only same data type\n",
    "print('Asc order',list)\n",
    "list.sort(reverse=True)\n",
    "print('Desc order',list)\n"
   ]
  },
  {
   "cell_type": "code",
   "execution_count": null,
   "id": "e1fb0fa0",
   "metadata": {},
   "outputs": [],
   "source": [
    "#tuple -similar to list but immutable"
   ]
  },
  {
   "cell_type": "code",
   "execution_count": null,
   "id": "1146806d",
   "metadata": {},
   "outputs": [],
   "source": []
  },
  {
   "cell_type": "code",
   "execution_count": null,
   "id": "b1d64c14",
   "metadata": {},
   "outputs": [],
   "source": []
  },
  {
   "cell_type": "code",
   "execution_count": 104,
   "id": "70eaa692",
   "metadata": {},
   "outputs": [
    {
     "name": "stdout",
     "output_type": "stream",
     "text": [
      "hihihihihihihihihihihihihihihihihihihihihihihihihihihihihihihihihihihihihihihihihihi"
     ]
    }
   ],
   "source": [
    "def print_hi(n):\n",
    "    for i in range(n):\n",
    "        print('hi',end='')\n",
    "\n",
    "print_hi(42) "
   ]
  },
  {
   "cell_type": "code",
   "execution_count": 102,
   "id": "568f4ffe",
   "metadata": {},
   "outputs": [
    {
     "name": "stdout",
     "output_type": "stream",
     "text": [
      "hihihihihihihihihihihihihihihihihihihihihihihihihihihihihihihihihihihihihihihihihihi\n"
     ]
    }
   ],
   "source": [
    "print('hi'*42)"
   ]
  },
  {
   "cell_type": "code",
   "execution_count": 2,
   "id": "517b8844",
   "metadata": {},
   "outputs": [
    {
     "name": "stdout",
     "output_type": "stream",
     "text": [
      "enter problem or something45%5\n",
      "your answer is: 0\n",
      "2121212121212121212121212121212121212121\n"
     ]
    }
   ],
   "source": [
    "a=input('enter problem or something')\n",
    "z=print('your answer is:',eval(a))\n",
    "print('21'*20,end='\\n')"
   ]
  },
  {
   "cell_type": "code",
   "execution_count": 108,
   "id": "5d66f551",
   "metadata": {
    "scrolled": true
   },
   "outputs": [
    {
     "name": "stdout",
     "output_type": "stream",
     "text": [
      "1.\n",
      "2.\n",
      "3.\n",
      "4.\n",
      "5.\n",
      "6.\n",
      "7.\n",
      "8.\n",
      "9.\n"
     ]
    }
   ],
   "source": [
    "def print_num(n):\n",
    "    for i in range(1,n):\n",
    "        print(i,'.',sep='')\n",
    "def print_num2(n):\n",
    "    for i in range(1,n):\n",
    "        print(str(i)+'.')\n",
    "\n",
    "print_num2(10)"
   ]
  },
  {
   "cell_type": "code",
   "execution_count": null,
   "id": "d8c487ed",
   "metadata": {},
   "outputs": [],
   "source": [
    "2**63"
   ]
  },
  {
   "cell_type": "code",
   "execution_count": null,
   "id": "315cd398",
   "metadata": {},
   "outputs": [],
   "source": [
    "#from turtle import *\n",
    "import turtle as t\n",
    "t.left(45)\n",
    "t.color('red')\n",
    "t.begin_fill()\n",
    "t.pencolor('black')\n",
    "t.pensize(3)\n",
    "t.forward(133)\n",
    "t.circle(50,200)\n",
    "t.right(140)\n",
    "t.circle(50,200)\n",
    "t.forward(133)\n",
    "t.end_fill()\n"
   ]
  },
  {
   "cell_type": "code",
   "execution_count": null,
   "id": "b4676c85",
   "metadata": {},
   "outputs": [],
   "source": [
    "6/2\n",
    "exp=input(print('Enter the amount paid / number of partitions'))\n",
    "print('split of tax:',eval(exp))"
   ]
  },
  {
   "cell_type": "code",
   "execution_count": 5,
   "id": "a773fbdd",
   "metadata": {},
   "outputs": [
    {
     "name": "stdout",
     "output_type": "stream",
     "text": [
      "Enter some value4\n"
     ]
    },
    {
     "ename": "TypeError",
     "evalue": "can only concatenate str (not \"int\") to str",
     "output_type": "error",
     "traceback": [
      "\u001b[1;31m---------------------------------------------------------------------------\u001b[0m",
      "\u001b[1;31mTypeError\u001b[0m                                 Traceback (most recent call last)",
      "\u001b[1;32m~\\AppData\\Local\\Temp/ipykernel_9096/1154854650.py\u001b[0m in \u001b[0;36m<module>\u001b[1;34m\u001b[0m\n\u001b[0;32m      3\u001b[0m \u001b[1;32mdef\u001b[0m \u001b[0minpt\u001b[0m\u001b[1;33m(\u001b[0m\u001b[0mn\u001b[0m\u001b[1;33m)\u001b[0m\u001b[1;33m:\u001b[0m\u001b[1;33m\u001b[0m\u001b[1;33m\u001b[0m\u001b[0m\n\u001b[0;32m      4\u001b[0m     \u001b[1;32mreturn\u001b[0m \u001b[0mn\u001b[0m\u001b[1;33m*\u001b[0m\u001b[1;36m10\u001b[0m\u001b[1;33m,\u001b[0m\u001b[0mn\u001b[0m\u001b[1;33m+\u001b[0m\u001b[1;36m10\u001b[0m\u001b[1;33m\u001b[0m\u001b[1;33m\u001b[0m\u001b[0m\n\u001b[1;32m----> 5\u001b[1;33m \u001b[0mprint\u001b[0m\u001b[1;33m(\u001b[0m\u001b[0minpt\u001b[0m\u001b[1;33m(\u001b[0m\u001b[0mv\u001b[0m\u001b[1;33m)\u001b[0m\u001b[1;33m)\u001b[0m\u001b[1;33m\u001b[0m\u001b[1;33m\u001b[0m\u001b[0m\n\u001b[0m",
      "\u001b[1;32m~\\AppData\\Local\\Temp/ipykernel_9096/1154854650.py\u001b[0m in \u001b[0;36minpt\u001b[1;34m(n)\u001b[0m\n\u001b[0;32m      2\u001b[0m \u001b[1;33m\u001b[0m\u001b[0m\n\u001b[0;32m      3\u001b[0m \u001b[1;32mdef\u001b[0m \u001b[0minpt\u001b[0m\u001b[1;33m(\u001b[0m\u001b[0mn\u001b[0m\u001b[1;33m)\u001b[0m\u001b[1;33m:\u001b[0m\u001b[1;33m\u001b[0m\u001b[1;33m\u001b[0m\u001b[0m\n\u001b[1;32m----> 4\u001b[1;33m     \u001b[1;32mreturn\u001b[0m \u001b[0mn\u001b[0m\u001b[1;33m*\u001b[0m\u001b[1;36m10\u001b[0m\u001b[1;33m,\u001b[0m\u001b[0mn\u001b[0m\u001b[1;33m+\u001b[0m\u001b[1;36m10\u001b[0m\u001b[1;33m\u001b[0m\u001b[1;33m\u001b[0m\u001b[0m\n\u001b[0m\u001b[0;32m      5\u001b[0m \u001b[0mprint\u001b[0m\u001b[1;33m(\u001b[0m\u001b[0minpt\u001b[0m\u001b[1;33m(\u001b[0m\u001b[0mv\u001b[0m\u001b[1;33m)\u001b[0m\u001b[1;33m)\u001b[0m\u001b[1;33m\u001b[0m\u001b[1;33m\u001b[0m\u001b[0m\n",
      "\u001b[1;31mTypeError\u001b[0m: can only concatenate str (not \"int\") to str"
     ]
    }
   ],
   "source": [
    "v=int(input('Enter some value'))\n",
    "\n",
    "def inpt(n):\n",
    "    return n*10,n+10\n",
    "print(inpt(v))\n"
   ]
  },
  {
   "cell_type": "code",
   "execution_count": null,
   "id": "7e625b30",
   "metadata": {},
   "outputs": [],
   "source": []
  }
 ],
 "metadata": {
  "kernelspec": {
   "display_name": "Python 3 (ipykernel)",
   "language": "python",
   "name": "python3"
  },
  "language_info": {
   "codemirror_mode": {
    "name": "ipython",
    "version": 3
   },
   "file_extension": ".py",
   "mimetype": "text/x-python",
   "name": "python",
   "nbconvert_exporter": "python",
   "pygments_lexer": "ipython3",
   "version": "3.9.7"
  }
 },
 "nbformat": 4,
 "nbformat_minor": 5
}
